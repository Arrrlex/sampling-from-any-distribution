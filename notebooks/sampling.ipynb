{
 "cells": [
  {
   "cell_type": "code",
   "execution_count": 11,
   "id": "07f0d569-c53a-4682-82b6-8c46b90b27c5",
   "metadata": {},
   "outputs": [],
   "source": [
    "from random import random\n",
    "from typing import Callable\n",
    "import sys; sys.path.append(\"..\")\n",
    "\n",
    "import matplotlib.pyplot as plt\n",
    "import numpy as np\n",
    "import pandas as pd\n",
    "import seaborn as sns\n",
    "from tqdm.notebook import tqdm\n",
    "\n",
    "from sampling.distributions import Normal, Triangle\n",
    "from sampling.protocols import Sampler\n",
    "from sampling.samplers import FunctionSampler, RejectionSampler, UniformSampler"
   ]
  },
  {
   "cell_type": "code",
   "execution_count": 12,
   "id": "94a221ba-5f71-4ffd-95e5-4ada18822a14",
   "metadata": {},
   "outputs": [],
   "source": [
    "sns.set()"
   ]
  },
  {
   "cell_type": "code",
   "execution_count": 13,
   "id": "537807ff-8f24-4f2d-9a96-c837c8ee807e",
   "metadata": {},
   "outputs": [],
   "source": [
    "plots_path = \"../plots\""
   ]
  },
  {
   "cell_type": "code",
   "execution_count": 14,
   "id": "ac7e71d7-0b18-4c1f-b12d-7dc5bd21e2d8",
   "metadata": {},
   "outputs": [],
   "source": [
    "x = np.linspace(0, 4, 1_000)\n",
    "dist = Triangle(1, 3)\n",
    "y = [dist.pdf(x_) for x_ in x]\n",
    "\n",
    "sns.lineplot(data={\"x\": x, \"y\": y}, x=\"x\", y=\"y\")\n",
    "plt.savefig(f\"{plots_path}/triangle.png\")"
   ]
  },
  {
   "cell_type": "code",
   "execution_count": 15,
   "id": "a8056660-aa1c-454a-8f24-fe52ccdf3590",
   "metadata": {},
   "outputs": [],
   "source": [
    "sns.histplot(\n",
    "    data={\"x\": [random() for _ in range(100_000)]},\n",
    "    x=\"x\",\n",
    ")\n",
    "plt.savefig(f\"{plots_path}/uniform1.png\")"
   ]
  },
  {
   "cell_type": "code",
   "execution_count": 16,
   "id": "ebd075a4-5b09-4e87-8ddc-d5bbce2b3b8f",
   "metadata": {},
   "outputs": [
    {
     "data": {
      "application/vnd.jupyter.widget-view+json": {
       "model_id": "699d8f3d73f146e1ac0a206981a8df36",
       "version_major": 2,
       "version_minor": 0
      },
      "text/plain": [
       "  0%|          | 0/1000000 [00:00<?, ?it/s]"
      ]
     },
     "metadata": {},
     "output_type": "display_data"
    }
   ],
   "source": [
    "def plot_pdf(sampler: Sampler, n=1_000_000):\n",
    "    samples = [sampler.draw() for _ in tqdm(range(n))]\n",
    "    sns.kdeplot(data={\"x\": samples}, x=\"x\", bw_adjust=0.5)\n",
    "\n",
    "\n",
    "plot_pdf(UniformSampler(5, 10))\n",
    "plt.savefig(f\"{plots_path}/uniform2.png\")"
   ]
  },
  {
   "cell_type": "code",
   "execution_count": 17,
   "id": "67f171a5-e087-4a4e-a237-4577b2b69a66",
   "metadata": {},
   "outputs": [],
   "source": [
    "def transform_sampler(sampler: Sampler, f: Callable[[float], float]) -> Sampler:\n",
    "    return FunctionSampler(func=lambda: f(sampler.draw()))"
   ]
  },
  {
   "cell_type": "code",
   "execution_count": 18,
   "id": "b4e4f37a-ad49-47ee-a2d8-97bbfac8656c",
   "metadata": {},
   "outputs": [
    {
     "data": {
      "application/vnd.jupyter.widget-view+json": {
       "model_id": "03ca651124674538ae3a08fe3f7562ab",
       "version_major": 2,
       "version_minor": 0
      },
      "text/plain": [
       "  0%|          | 0/1000000 [00:00<?, ?it/s]"
      ]
     },
     "metadata": {},
     "output_type": "display_data"
    }
   ],
   "source": [
    "squared_uniform_sampler = transform_sampler(UniformSampler(0, 1), lambda x: x**2)\n",
    "plot_pdf(squared_uniform_sampler)"
   ]
  },
  {
   "cell_type": "markdown",
   "id": "587553fe-762f-445f-9b6a-eece5556b371",
   "metadata": {},
   "source": [
    "Let $X$ be distributed uniformly between $l$ and $u$. Then $p(x) = \\frac{1}{u - l}$."
   ]
  },
  {
   "cell_type": "markdown",
   "id": "09d24d66-0829-42f1-bec8-d6f00435f220",
   "metadata": {},
   "source": [
    "We have some unknown distribution $T$. We know the pdf of $T$ is $f$.\n",
    "\n",
    "We want to know what the pdf of $f(X)$ is.\n",
    "\n",
    "We know that $p(f(X)=f(x)) = \\frac{1}{u - l}$ for $x \\in [l, u]$. "
   ]
  },
  {
   "cell_type": "markdown",
   "id": "a23937a8-cb91-4775-9f2d-d7530c06235e",
   "metadata": {},
   "source": [
    "However, we can't get from this to $p(X = x)$ unless we know how to invert $f$. For some special functions we have that, but for a general function defined computationally, we don't."
   ]
  },
  {
   "cell_type": "code",
   "execution_count": 19,
   "id": "64c8491c-6251-4fd0-8c9d-c1d08de11b31",
   "metadata": {},
   "outputs": [
    {
     "data": {
      "application/vnd.jupyter.widget-view+json": {
       "model_id": "2fa12346fee2488cae0014b1c1a0ef4d",
       "version_major": 2,
       "version_minor": 0
      },
      "text/plain": [
       "  0%|          | 0/100000 [00:00<?, ?it/s]"
      ]
     },
     "metadata": {},
     "output_type": "display_data"
    }
   ],
   "source": [
    "sampler = RejectionSampler(Normal(0, 1), lower=-20, upper=20)\n",
    "plot_pdf(sampler, n=100_000)\n",
    "plt.savefig(f\"{plots_path}/normal_pdf.png\")"
   ]
  },
  {
   "cell_type": "code",
   "execution_count": 10,
   "id": "c6ad6af5-9bf6-4fd7-b4f7-a72d1b823843",
   "metadata": {},
   "outputs": [],
   "source": [
    "sns.reset_orig()\n",
    "xs = np.linspace(-20, 20, 100)\n",
    "ys = Normal(0, 1).pdf(xs)\n",
    "fig = sns.lineplot(data={\"xs\": xs, \"ys\": ys}, x=\"xs\", y=\"ys\")\n",
    "fig.set_facecolor(\"orange\")\n",
    "plt.fill_between(xs, ys)\n",
    "plt.savefig(f\"{plots_path}/orange_and_blue.png\")"
   ]
  }
 ],
 "metadata": {
  "kernelspec": {
   "display_name": ".venv",
   "language": "python",
   "name": "python3"
  },
  "language_info": {
   "codemirror_mode": {
    "name": "ipython",
    "version": 3
   },
   "file_extension": ".py",
   "mimetype": "text/x-python",
   "name": "python",
   "nbconvert_exporter": "python",
   "pygments_lexer": "ipython3",
   "version": "3.12.5"
  }
 },
 "nbformat": 4,
 "nbformat_minor": 5
}
